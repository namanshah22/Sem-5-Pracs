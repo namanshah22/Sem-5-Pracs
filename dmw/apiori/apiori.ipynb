{
 "cells": [
  {
   "cell_type": "code",
   "execution_count": 1,
   "metadata": {},
   "outputs": [],
   "source": [
    "import numpy as np \n",
    "import pandas as pd "
   ]
  },
  {
   "cell_type": "code",
   "execution_count": 2,
   "metadata": {},
   "outputs": [],
   "source": [
    "from mlxtend.frequent_patterns import apriori, association_rules \n",
    "from mlxtend.preprocessing import TransactionEncoder "
   ]
  },
  {
   "cell_type": "code",
   "execution_count": 14,
   "metadata": {},
   "outputs": [
    {
     "name": "stdout",
     "output_type": "stream",
     "text": [
      "Enter the minimum support & confidence \n",
      "0.15\n",
      "0.6\n"
     ]
    }
   ],
   "source": [
    "print(\"Enter the minimum support & confidence \") \n",
    "min_support = float(input(\"Enter minimum suppport : \")) \n",
    "print(min_support)\n",
    "min_confidence = float(input(\"Enter the minimum confidence : \")) \n",
    "print(min_confidence)"
   ]
  },
  {
   "cell_type": "code",
   "execution_count": 6,
   "metadata": {},
   "outputs": [],
   "source": [
    "# Read the dataset \n",
    "df = pd.read_csv('GroceryStoreDataSet.csv', names = ['products'])"
   ]
  },
  {
   "cell_type": "code",
   "execution_count": 7,
   "metadata": {},
   "outputs": [],
   "source": [
    "# split the data & create list called by data \n",
    "data = list(df[\"products\"].apply(lambda x:x.split(\",\") )) "
   ]
  },
  {
   "cell_type": "code",
   "execution_count": 9,
   "metadata": {},
   "outputs": [],
   "source": [
    "a = TransactionEncoder() \n",
    "a_data = a.fit(data).transform(data) \n",
    "df = pd.DataFrame(a_data,columns=a.columns_) \n",
    "df = df.replace(False,0) \n",
    "df = df.replace(True,1)"
   ]
  },
  {
   "cell_type": "code",
   "execution_count": 10,
   "metadata": {},
   "outputs": [
    {
     "name": "stderr",
     "output_type": "stream",
     "text": [
      "C:\\Users\\Naman\\AppData\\Roaming\\Python\\Python310\\site-packages\\mlxtend\\frequent_patterns\\fpcommon.py:110: DeprecationWarning: DataFrames with non-bool types result in worse computationalperformance and their support might be discontinued in the future.Please use a DataFrame with bool type\n",
      "  warnings.warn(\n"
     ]
    }
   ],
   "source": [
    "df = apriori(df, min_support = min_support, use_colnames = True) "
   ]
  },
  {
   "cell_type": "code",
   "execution_count": 11,
   "metadata": {},
   "outputs": [],
   "source": [
    "df['length'] = df['itemsets'].apply(lambda x: len(x))"
   ]
  },
  {
   "cell_type": "code",
   "execution_count": 13,
   "metadata": {},
   "outputs": [
    {
     "name": "stdout",
     "output_type": "stream",
     "text": [
      "Associatives rules with minimum confidence 60.0% are : \n"
     ]
    },
    {
     "data": {
      "text/html": [
       "<div>\n",
       "<style scoped>\n",
       "    .dataframe tbody tr th:only-of-type {\n",
       "        vertical-align: middle;\n",
       "    }\n",
       "\n",
       "    .dataframe tbody tr th {\n",
       "        vertical-align: top;\n",
       "    }\n",
       "\n",
       "    .dataframe thead th {\n",
       "        text-align: right;\n",
       "    }\n",
       "</style>\n",
       "<table border=\"1\" class=\"dataframe\">\n",
       "  <thead>\n",
       "    <tr style=\"text-align: right;\">\n",
       "      <th></th>\n",
       "      <th>antecedents</th>\n",
       "      <th>consequents</th>\n",
       "      <th>antecedent support</th>\n",
       "      <th>consequent support</th>\n",
       "      <th>support</th>\n",
       "      <th>confidence</th>\n",
       "      <th>lift</th>\n",
       "      <th>leverage</th>\n",
       "      <th>conviction</th>\n",
       "      <th>zhangs_metric</th>\n",
       "    </tr>\n",
       "  </thead>\n",
       "  <tbody>\n",
       "    <tr>\n",
       "      <th>0</th>\n",
       "      <td>(BOURNVITA)</td>\n",
       "      <td>(BREAD)</td>\n",
       "      <td>0.20</td>\n",
       "      <td>0.65</td>\n",
       "      <td>0.15</td>\n",
       "      <td>0.750000</td>\n",
       "      <td>1.153846</td>\n",
       "      <td>0.0200</td>\n",
       "      <td>1.400</td>\n",
       "      <td>0.166667</td>\n",
       "    </tr>\n",
       "    <tr>\n",
       "      <th>1</th>\n",
       "      <td>(MAGGI)</td>\n",
       "      <td>(BREAD)</td>\n",
       "      <td>0.25</td>\n",
       "      <td>0.65</td>\n",
       "      <td>0.15</td>\n",
       "      <td>0.600000</td>\n",
       "      <td>0.923077</td>\n",
       "      <td>-0.0125</td>\n",
       "      <td>0.875</td>\n",
       "      <td>-0.100000</td>\n",
       "    </tr>\n",
       "    <tr>\n",
       "      <th>2</th>\n",
       "      <td>(MILK)</td>\n",
       "      <td>(BREAD)</td>\n",
       "      <td>0.25</td>\n",
       "      <td>0.65</td>\n",
       "      <td>0.20</td>\n",
       "      <td>0.800000</td>\n",
       "      <td>1.230769</td>\n",
       "      <td>0.0375</td>\n",
       "      <td>1.750</td>\n",
       "      <td>0.250000</td>\n",
       "    </tr>\n",
       "    <tr>\n",
       "      <th>3</th>\n",
       "      <td>(SUGER)</td>\n",
       "      <td>(BREAD)</td>\n",
       "      <td>0.30</td>\n",
       "      <td>0.65</td>\n",
       "      <td>0.20</td>\n",
       "      <td>0.666667</td>\n",
       "      <td>1.025641</td>\n",
       "      <td>0.0050</td>\n",
       "      <td>1.050</td>\n",
       "      <td>0.035714</td>\n",
       "    </tr>\n",
       "    <tr>\n",
       "      <th>4</th>\n",
       "      <td>(COCK)</td>\n",
       "      <td>(COFFEE)</td>\n",
       "      <td>0.15</td>\n",
       "      <td>0.40</td>\n",
       "      <td>0.15</td>\n",
       "      <td>1.000000</td>\n",
       "      <td>2.500000</td>\n",
       "      <td>0.0900</td>\n",
       "      <td>inf</td>\n",
       "      <td>0.705882</td>\n",
       "    </tr>\n",
       "    <tr>\n",
       "      <th>5</th>\n",
       "      <td>(CORNFLAKES)</td>\n",
       "      <td>(COFFEE)</td>\n",
       "      <td>0.30</td>\n",
       "      <td>0.40</td>\n",
       "      <td>0.20</td>\n",
       "      <td>0.666667</td>\n",
       "      <td>1.666667</td>\n",
       "      <td>0.0800</td>\n",
       "      <td>1.800</td>\n",
       "      <td>0.571429</td>\n",
       "    </tr>\n",
       "    <tr>\n",
       "      <th>6</th>\n",
       "      <td>(SUGER)</td>\n",
       "      <td>(COFFEE)</td>\n",
       "      <td>0.30</td>\n",
       "      <td>0.40</td>\n",
       "      <td>0.20</td>\n",
       "      <td>0.666667</td>\n",
       "      <td>1.666667</td>\n",
       "      <td>0.0800</td>\n",
       "      <td>1.800</td>\n",
       "      <td>0.571429</td>\n",
       "    </tr>\n",
       "    <tr>\n",
       "      <th>7</th>\n",
       "      <td>(MAGGI)</td>\n",
       "      <td>(TEA)</td>\n",
       "      <td>0.25</td>\n",
       "      <td>0.35</td>\n",
       "      <td>0.20</td>\n",
       "      <td>0.800000</td>\n",
       "      <td>2.285714</td>\n",
       "      <td>0.1125</td>\n",
       "      <td>3.250</td>\n",
       "      <td>0.750000</td>\n",
       "    </tr>\n",
       "  </tbody>\n",
       "</table>\n",
       "</div>"
      ],
      "text/plain": [
       "    antecedents consequents  antecedent support  consequent support  support  \\\n",
       "0   (BOURNVITA)     (BREAD)                0.20                0.65     0.15   \n",
       "1       (MAGGI)     (BREAD)                0.25                0.65     0.15   \n",
       "2        (MILK)     (BREAD)                0.25                0.65     0.20   \n",
       "3       (SUGER)     (BREAD)                0.30                0.65     0.20   \n",
       "4        (COCK)    (COFFEE)                0.15                0.40     0.15   \n",
       "5  (CORNFLAKES)    (COFFEE)                0.30                0.40     0.20   \n",
       "6       (SUGER)    (COFFEE)                0.30                0.40     0.20   \n",
       "7       (MAGGI)       (TEA)                0.25                0.35     0.20   \n",
       "\n",
       "   confidence      lift  leverage  conviction  zhangs_metric  \n",
       "0    0.750000  1.153846    0.0200       1.400       0.166667  \n",
       "1    0.600000  0.923077   -0.0125       0.875      -0.100000  \n",
       "2    0.800000  1.230769    0.0375       1.750       0.250000  \n",
       "3    0.666667  1.025641    0.0050       1.050       0.035714  \n",
       "4    1.000000  2.500000    0.0900         inf       0.705882  \n",
       "5    0.666667  1.666667    0.0800       1.800       0.571429  \n",
       "6    0.666667  1.666667    0.0800       1.800       0.571429  \n",
       "7    0.800000  2.285714    0.1125       3.250       0.750000  "
      ]
     },
     "execution_count": 13,
     "metadata": {},
     "output_type": "execute_result"
    }
   ],
   "source": [
    "print(f\"Associatives rules with minimum confidence {min_confidence*100}% are : \")\n",
    "df_ar = association_rules(df, metric = \"confidence\", min_threshold = min_confidence) \n",
    "df_ar "
   ]
  }
 ],
 "metadata": {
  "kernelspec": {
   "display_name": "Python 3",
   "language": "python",
   "name": "python3"
  },
  "language_info": {
   "codemirror_mode": {
    "name": "ipython",
    "version": 3
   },
   "file_extension": ".py",
   "mimetype": "text/x-python",
   "name": "python",
   "nbconvert_exporter": "python",
   "pygments_lexer": "ipython3",
   "version": "3.10.0"
  },
  "orig_nbformat": 4
 },
 "nbformat": 4,
 "nbformat_minor": 2
}
